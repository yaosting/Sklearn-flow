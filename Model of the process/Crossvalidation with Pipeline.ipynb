{
 "cells": [
  {
   "cell_type": "code",
   "execution_count": 1,
   "metadata": {},
   "outputs": [
    {
     "name": "stdout",
     "output_type": "stream",
     "text": [
      "Automatically created module for IPython interactive environment\n"
     ]
    },
    {
     "data": {
      "image/png": "[encoded data removed]",
      "text/plain": [
       "<Figure size 432x288 with 1 Axes>"
      ]
     },
     "metadata": {},
     "output_type": "display_data"
    }
   ],
   "source": [
    "print(__doc__)\n",
    "\n",
    "import matplotlib.pyplot as plt\n",
    "import numpy as np\n",
    "from sklearn.datasets import load_digits\n",
    "from sklearn.svm import SVC\n",
    "from sklearn.model_selection import validation_curve\n",
    "\n",
    "digits = load_digits()\n",
    "X, y = digits.data, digits.target\n",
    "\n",
    "param_range = np.logspace(-6, -1, 5)\n",
    "train_scores, test_scores = validation_curve(\n",
    "    SVC(), X, y, param_name=\"gamma\", param_range=param_range,\n",
    "    cv=10, scoring=\"accuracy\", n_jobs=1)\n",
    "train_scores_mean = np.mean(train_scores, axis=1)\n",
    "train_scores_std = np.std(train_scores, axis=1)\n",
    "test_scores_mean = np.mean(test_scores, axis=1)\n",
    "test_scores_std = np.std(test_scores, axis=1)\n",
    "\n",
    "plt.title(\"Validation Curve with SVM\")\n",
    "plt.xlabel(\"$\\gamma$\")\n",
    "plt.ylabel(\"Score\")\n",
    "plt.ylim(0.0, 1.1)\n",
    "plt.semilogx(param_range, train_scores_mean, label=\"Training score\", color=\"r\")\n",
    "plt.fill_between(param_range, train_scores_mean - train_scores_std,\n",
    "                 train_scores_mean + train_scores_std, alpha=0.2, color=\"r\")\n",
    "plt.semilogx(param_range, test_scores_mean, label=\"Cross-validation score\",\n",
    "             color=\"g\")\n",
    "plt.fill_between(param_range, test_scores_mean - test_scores_std,\n",
    "                 test_scores_mean + test_scores_std, alpha=0.2, color=\"g\")\n",
    "plt.legend(loc=\"best\")\n",
    "plt.show()"
   ]
  },
  {
   "cell_type": "code",
   "execution_count": 2,
   "metadata": {},
   "outputs": [],
   "source": [
    "#构造Cross validation iterators 交叉验证迭代器代入交叉验证\n",
    "#1. kflod(3种)\n",
    "#2. Leave-One-Out - LOO 留一   LPO LOO\n",
    "#3.  ShuffleSplit 对原始数据进行随机划分，优于kflod，可以自定义train/test比例。\n",
    "\n",
    "#使用pipline来构造一个管道函数，封装处理流程，transform->transform or classifier\n",
    "\n",
    "#GridSearchCV(clf, param_grid=params,cv=sfolder)"
   ]
  },
  {
   "cell_type": "code",
   "execution_count": 4,
   "metadata": {},
   "outputs": [
    {
     "name": "stdout",
     "output_type": "stream",
     "text": [
      "[1 7 3 0 5 4],[6 2]\n",
      "[3 7 0 4 2 5],[1 6]\n",
      "[3 4 7 0 6 1],[5 2]\n",
      "[6 7 3 4 1 0],[2 5]\n",
      "Train: [1 3 4 5 6 7] | test: [0 2]\n",
      "Train: [0 2 4 5 6 7] | test: [1 3]\n",
      "Train: [0 1 2 3 5 7] | test: [4 6]\n",
      "Train: [0 1 2 3 4 6] | test: [5 7]\n",
      "Train1: [2 3 4 5 6 7] | test1: [0 1]\n",
      "Train1: [0 1 4 5 6 7] | test1: [2 3]\n",
      "Train1: [0 1 2 3 6 7] | test1: [4 5]\n",
      "Train1: [0 1 2 3 4 5] | test1: [6 7]\n",
      "('reduce_dim', PCA(copy=True, iterated_power='auto', n_components=None, random_state=None,\n",
      "  svd_solver='auto', tol=0.0, whiten=False))\n",
      "('svm', SVC(C=10, cache_size=200, class_weight=None, coef0=0.0,\n",
      "  decision_function_shape='ovr', degree=3, gamma='auto', kernel='rbf',\n",
      "  max_iter=-1, probability=False, random_state=None, shrinking=True,\n",
      "  tol=0.001, verbose=False))\n"
     ]
    },
    {
     "data": {
      "text/plain": [
       "GridSearchCV(cv=StratifiedKFold(n_splits=4, random_state=0, shuffle=False),\n",
       "       error_score='raise-deprecating',\n",
       "       estimator=Pipeline(memory=None,\n",
       "     steps=[('reduce_dim', PCA(copy=True, iterated_power='auto', n_components=None, random_state=None,\n",
       "  svd_solver='auto', tol=0.0, whiten=False)), ('svm', SVC(C=10, cache_size=200, class_weight=None, coef0=0.0,\n",
       "  decision_function_shape='ovr', degree=3, gamma='auto', kernel='rbf',\n",
       "  max_iter=-1, probability=False, random_state=None, shrinking=True,\n",
       "  tol=0.001, verbose=False))]),\n",
       "       fit_params=None, iid='warn', n_jobs=None,\n",
       "       param_grid={'svm__C': [0.1, 10, 100], 'svm_gamma': [-2, 2, 4], 'reduce_dim__n_components': [2, 5, 10]},\n",
       "       pre_dispatch='2*n_jobs', refit=True, return_train_score='warn',\n",
       "       scoring=None, verbose=0)"
      ]
     },
     "execution_count": 4,
     "metadata": {},
     "output_type": "execute_result"
    }
   ],
   "source": [
    "#StratifiedKFold(y, n_folds=3, shuffle=False, random_state=None),\n",
    "#StratifiedKFold 分层采样交叉切分，确保训练集，测试集中各类别样本的比例与原始数据集中相同。\n",
    "# The folds are made by preserving the percentage of samples for each class.\n",
    "import numpy as np \n",
    "from sklearn.model_selection import KFold,StratifiedKFold,cross_val_score,ShuffleSplit,train_test_split,GridSearchCV\n",
    "from sklearn.pipeline import make_pipeline,Pipeline\n",
    "from sklearn import metrics\n",
    "from sklearn.decomposition import PCA\n",
    "from sklearn.svm import SVC\n",
    "\n",
    "\n",
    "X=np.array([\n",
    "    [1.,2.,3.,4.],\n",
    "    [11.,12.,13.,14.],\n",
    "    [21.,22.,23.,24.],\n",
    "    [31.,32.,33.,34.],\n",
    "    [41.,42.,43.,44.],\n",
    "    [51.,52.,53.,54.],\n",
    "    [61.,62.,63.,64.],\n",
    "    [71.,72.,73.,74.]\n",
    "])\n",
    " \n",
    "y=np.array([1,1,0,0,1,1,0,0])\n",
    "floder = KFold(n_splits=4,random_state=0,shuffle=False)\n",
    "sfolder = StratifiedKFold(n_splits=4,random_state=0,shuffle=False)\n",
    "cv = ShuffleSplit(n_splits=4, test_size=0.25, random_state=0)\n",
    "# lkf = LabelKFold(labels, n_folds=3)\n",
    "\n",
    "# for train, test in lkf.split(train,test):\n",
    "#     print(\"%s %s\" % (train, test))\n",
    "    \n",
    "for train,test in cv.split(X,y):\n",
    "    print('%s,%s'% (train,test))\n",
    "    \n",
    "for train, test in sfolder.split(X,y):\n",
    "    print('Train: %s | test: %s' % (train, test))\n",
    "    \n",
    "for train, test in floder.split(X,y):\n",
    "    print('Train1: %s | test1: %s' % (train, test))\n",
    "    \n",
    "#传入一个交叉验证迭代器来进行交叉验证，random_state=0,则不随机生成，random= int随机生成，suffle= ture，对数据进行洗牌\n",
    "#kfload比shufflesplit更专业.\n",
    "#make_pipeline是pipeline的简化\n",
    "#管道中的所有估算器（最后一个除外）必须是变换器（即必须有transform方法）,执行完后传给下一个\n",
    "# anova_svm = Pipeline([('split', sfolder), ('svc', svm.SVC(C=1))])\n",
    "# anova_svm.set_params(split_n_splits=10, svc__C=.1).fit(X, y)\n",
    "# anova_svm.score(X, y)\n",
    "\n",
    "clf = Pipeline([('reduce_dim', PCA()),('svm',SVC(C=1,gamma='auto'))])\n",
    "#Parameters of the estimators in the pipeline can be accessed using the <estimator>__<parameter> syntax:\n",
    "clf.set_params(svm__C=10) \n",
    "#clf = make_pipeline(sklearn.preprocessing.StandardScaler(), svm.SVC(C=1))\n",
    "cross_val_score(clf, X,y, cv=sfolder)#scoring='f1_weighted' 通过scoring来选择分数计算方式。\n",
    "for s in clf.steps:\n",
    "    print(s)\n",
    "\n",
    "params = dict(reduce_dim__n_components=[2, 5, 10],\n",
    "              svm__C=[0.1, 10, 100],svm_gamma=[-2,2,4])\n",
    "\n",
    "grid_search = GridSearchCV(clf, param_grid=params,cv=sfolder)\n",
    "grid_search"
   ]
  },
  {
   "cell_type": "code",
   "execution_count": 5,
   "metadata": {},
   "outputs": [
    {
     "data": {
      "text/plain": [
       "FeatureUnion(n_jobs=None,\n",
       "       transformer_list=[('linear_pca', PCA(copy=True, iterated_power='auto', n_components=None, random_state=None,\n",
       "  svd_solver='auto', tol=0.0, whiten=False)), ('kernel_pca', KernelPCA(alpha=1.0, coef0=1, copy_X=True, degree=3, eigen_solver='auto',\n",
       "     fit_inverse_transform=False, gamma=None, kernel='linear',\n",
       "     kernel_params=None, max_iter=None, n_components=None, n_jobs=None,\n",
       "     random_state=None, remove_zero_eig=False, tol=0))],\n",
       "       transformer_weights=None)"
      ]
     },
     "execution_count": 5,
     "metadata": {},
     "output_type": "execute_result"
    }
   ],
   "source": [
    "from sklearn.pipeline import FeatureUnion\n",
    "from sklearn.decomposition import PCA\n",
    "from sklearn.decomposition import KernelPCA\n",
    "#使用FeatureUnion。。。\n",
    "estimators = [('linear_pca', PCA()), ('kernel_pca', KernelPCA())]\n",
    "combined = FeatureUnion(estimators)\n",
    "combined "
   ]
  },
  {
   "cell_type": "code",
   "execution_count": 6,
   "metadata": {},
   "outputs": [
    {
     "data": {
      "image/png": "[encoded data removed]",
      "text/plain": [
       "<Figure size 288x216 with 1 Axes>"
      ]
     },
     "metadata": {},
     "output_type": "display_data"
    }
   ],
   "source": [
    "#a sample use gridsearchcv\n",
    "import warnings\n",
    "warnings.filterwarnings(\"ignore\")\n",
    "\n",
    "# Code source: Gaël Varoquaux\n",
    "# Modified for documentation by Jaques Grobler\n",
    "# License: BSD 3 clause\n",
    "\n",
    "\n",
    "import numpy as np\n",
    "import matplotlib.pyplot as plt\n",
    "\n",
    "from sklearn import linear_model, decomposition, datasets\n",
    "from sklearn.pipeline import Pipeline\n",
    "from sklearn.model_selection import GridSearchCV\n",
    "\n",
    "logistic = linear_model.LogisticRegression(multi_class='auto',solver='lbfgs')\n",
    "\n",
    "pca = decomposition.PCA()\n",
    "pipe = Pipeline(steps=[('pca', pca), ('logistic', logistic)])\n",
    "\n",
    "digits = datasets.load_digits()\n",
    "X_digits = digits.data\n",
    "y_digits = digits.target\n",
    "\n",
    "###############################################################################\n",
    "# Plot the PCA spectrum\n",
    "pca.fit(X_digits)\n",
    "\n",
    "plt.figure(1, figsize=(4, 3))\n",
    "plt.clf()\n",
    "plt.axes([.2, .2, .7, .7])\n",
    "plt.plot(pca.explained_variance_, linewidth=2)\n",
    "plt.axis('tight')\n",
    "plt.xlabel('n_components')\n",
    "plt.ylabel('explained_variance_')\n",
    "\n",
    "###############################################################################\n",
    "# Prediction\n",
    "\n",
    "n_components = [20, 40, 64]\n",
    "Cs = np.logspace(-4, 4, 3)\n",
    "\n",
    "#Parameters of pipelines can be set using ‘__’ separated parameter names:\n",
    "\n",
    "estimator = GridSearchCV(pipe,\n",
    "                         dict(pca__n_components=n_components,\n",
    "                              logistic__C=Cs),cv =5)\n",
    "estimator.fit(X_digits, y_digits)\n",
    "\n",
    "plt.axvline(estimator.best_estimator_.named_steps['pca'].n_components,\n",
    "            linestyle=':', label='n_components chosen')\n",
    "#cvCanshu \n",
    "plt.legend(prop=dict(size=12)) #设置字体\n",
    "plt.show()\n",
    "\n"
   ]
  },
  {
   "cell_type": "code",
   "execution_count": 7,
   "metadata": {
    "scrolled": false
   },
   "outputs": [
    {
     "name": "stdout",
     "output_type": "stream",
     "text": [
      "# Tuning hyper-parameters for precision\n",
      "\n",
      "Best parameters set found on development set:\n",
      "\n",
      "{'kernel': 'rbf', 'gamma': 0.001, 'C': 10}\n",
      "\n",
      "Grid scores on development set:\n",
      "Detailed classification report:\n",
      "\n",
      "The model is trained on the full development set.\n",
      "The scores are computed on the full evaluation set.\n",
      "\n",
      "              precision    recall  f1-score   support\n",
      "\n",
      "           0       1.00      1.00      1.00        89\n",
      "           1       0.97      1.00      0.98        90\n",
      "           2       0.99      0.98      0.98        92\n",
      "           3       1.00      0.99      0.99        93\n",
      "           4       1.00      1.00      1.00        76\n",
      "           5       0.99      0.98      0.99       108\n",
      "           6       0.99      1.00      0.99        89\n",
      "           7       0.99      1.00      0.99        78\n",
      "           8       1.00      0.98      0.99        92\n",
      "           9       0.99      0.99      0.99        92\n",
      "\n",
      "   micro avg       0.99      0.99      0.99       899\n",
      "   macro avg       0.99      0.99      0.99       899\n",
      "weighted avg       0.99      0.99      0.99       899\n",
      "\n",
      "\n",
      "# Tuning hyper-parameters for recall\n",
      "\n",
      "Best parameters set found on development set:\n",
      "\n",
      "{'kernel': 'rbf', 'gamma': 0.001, 'C': 10}\n",
      "\n",
      "Grid scores on development set:\n",
      "Detailed classification report:\n",
      "\n",
      "The model is trained on the full development set.\n",
      "The scores are computed on the full evaluation set.\n",
      "\n",
      "              precision    recall  f1-score   support\n",
      "\n",
      "           0       1.00      1.00      1.00        89\n",
      "           1       0.97      1.00      0.98        90\n",
      "           2       0.99      0.98      0.98        92\n",
      "           3       1.00      0.99      0.99        93\n",
      "           4       1.00      1.00      1.00        76\n",
      "           5       0.99      0.98      0.99       108\n",
      "           6       0.99      1.00      0.99        89\n",
      "           7       0.99      1.00      0.99        78\n",
      "           8       1.00      0.98      0.99        92\n",
      "           9       0.99      0.99      0.99        92\n",
      "\n",
      "   micro avg       0.99      0.99      0.99       899\n",
      "   macro avg       0.99      0.99      0.99       899\n",
      "weighted avg       0.99      0.99      0.99       899\n",
      "\n",
      "\n"
     ]
    }
   ],
   "source": [
    "# another example gridsearvhcv\n",
    "from sklearn import datasets\n",
    "from sklearn.model_selection import train_test_split,GridSearchCV\n",
    "from sklearn.metrics import classification_report\n",
    "from sklearn.svm import SVC\n",
    " \n",
    "# Loading the Digits dataset\n",
    "digits = datasets.load_digits()\n",
    " \n",
    "# To apply an classifier on this data, we need to flatten the image, to\n",
    "# turn the data in a (samples, feature) matrix:\n",
    "n_samples = len(digits.images)\n",
    "X = digits.images.reshape((n_samples, -1))\n",
    "y = digits.target\n",
    " \n",
    "# 将数据集分成训练集和测试集\n",
    "X_train, X_test, y_train, y_test = train_test_split(\n",
    "    X, y, test_size=0.5, random_state=0)\n",
    " \n",
    "# 设置gridsearch的参数\n",
    "tuned_parameters = [{'kernel': ['rbf'], 'gamma': [1e-3, 1e-4],\n",
    "                     'C': [1, 10, 100, 1000]},\n",
    "                    {'kernel': ['linear'], 'C': [1, 10, 100, 1000]}]\n",
    " \n",
    "#设置模型评估的方法.如果不清楚,可以参考上面的k-fold章节里面的超链接\n",
    "scores = ['precision', 'recall']\n",
    " \n",
    "for score in scores:\n",
    "    print(\"# Tuning hyper-parameters for %s\" % score)\n",
    "    print()\n",
    " \n",
    "    #构造这个GridSearch的分类器,5-fold\n",
    "    clf = GridSearchCV(SVC(decision_function_shape='ovr'), tuned_parameters, cv=5,\n",
    "                       scoring='%s_weighted' % score)\n",
    "    #只在训练集上面做k-fold,然后返回最优的模型参数\n",
    "    clf.fit(X_train, y_train)\n",
    " \n",
    "    print(\"Best parameters set found on development set:\")\n",
    "    print()\n",
    "    #输出最优的模型参数\n",
    "    print(clf.best_params_)\n",
    "    print()\n",
    "    print(\"Grid scores on development set:\")\n",
    "    #print(dir(clf))\n",
    "#     print(clf.best_estimator_)\n",
    "#    print(len(clf.cv_results_))\n",
    " \n",
    "    print(\"Detailed classification report:\")\n",
    "    print()\n",
    "    print(\"The model is trained on the full development set.\")\n",
    "    print(\"The scores are computed on the full evaluation set.\")\n",
    "    print()\n",
    "    #在测试集上测试最优的模型的泛化能力.\n",
    "    y_true, y_pred = y_test, clf.predict(X_test)\n",
    "    print(classification_report(y_true, y_pred))\n",
    "    print()"
   ]
  },
  {
   "cell_type": "code",
   "execution_count": 8,
   "metadata": {},
   "outputs": [
    {
     "name": "stdout",
     "output_type": "stream",
     "text": [
      "[ 1.46210794 -2.06014071 -0.3224172  -0.38405435  1.13376944 -1.09989127\n",
      " -0.17242821 -0.87785842  0.04221375  0.58281521] 1.0\n"
     ]
    },
    {
     "data": {
      "text/plain": [
       "{'base_estimator__criterion': 'entropy',\n",
       " 'base_estimator__splitter': 'best',\n",
       " 'n_estimators': 1}"
      ]
     },
     "execution_count": 8,
     "metadata": {},
     "output_type": "execute_result"
    }
   ],
   "source": [
    "# use the gridsearch 集成学习  多参数\n",
    "from sklearn.tree import DecisionTreeClassifier\n",
    "from sklearn.ensemble import AdaBoostClassifier\n",
    "from sklearn.model_selection import GridSearchCV\n",
    "\n",
    "iris = datasets.load_iris()\n",
    "param_grid = {\"base_estimator__criterion\": [\"gini\", \"entropy\"],\n",
    "          \"base_estimator__splitter\":   [\"best\", \"random\"],\n",
    "          \"n_estimators\": [1, 2]}\n",
    "\n",
    "dtc = DecisionTreeClassifier()\n",
    "ada = AdaBoostClassifier(base_estimator=dtc)\n",
    "X, y = datasets.make_hastie_10_2(n_samples=12000, random_state=1)\n",
    "print(X[1], y[1])\n",
    "\n",
    "grid_search_ada = GridSearchCV(ada, param_grid=param_grid, cv=10)\n",
    "grid_search_ada.fit(X, y)\n",
    "grid_search_ada.best_params_"
   ]
  },
  {
   "cell_type": "code",
   "execution_count": 12,
   "metadata": {},
   "outputs": [
    {
     "name": "stdout",
     "output_type": "stream",
     "text": [
      "Test accuracy: 0.647\n"
     ]
    }
   ],
   "source": [
    "#  grid和pipeline结合形式2\n",
    "from sklearn.svm import SVC\n",
    "my_svc = SVC()\n",
    "parameters = {'kernel':('linear','rbf'), 'C':[1, 2], 'gamma':[0.125, 0.5]}\n",
    "\n",
    "X, y = datasets.make_hastie_10_2(n_samples=12000, random_state=1)\n",
    "\n",
    "from sklearn.model_selection import GridSearchCV\n",
    "from sklearn.preprocessing import StandardScaler\n",
    "# 构建pipeline\n",
    "pipe_svc = Pipeline([('sc', StandardScaler()),\n",
    "                    ('pca', PCA(n_components=2)),\n",
    "                    ('clf', GridSearchCV(my_svc, parameters, n_jobs=-1))\n",
    "                    ])\n",
    " \n",
    "pipe_svc.fit(X,y)\n",
    "print('Test accuracy: %.3f' % pipe_svc.score(X, y))"
   ]
  },
  {
   "cell_type": "code",
   "execution_count": 19,
   "metadata": {},
   "outputs": [
    {
     "name": "stdout",
     "output_type": "stream",
     "text": [
      "Fitting 3 folds for each of 60 candidates, totalling 180 fits\n"
     ]
    },
    {
     "name": "stderr",
     "output_type": "stream",
     "text": [
      "[Parallel(n_jobs=-1)]: Using backend LokyBackend with 4 concurrent workers.\n"
     ]
    },
    {
     "name": "stdout",
     "output_type": "stream",
     "text": [
      "best_estimator_\n",
      "KNeighborsClassifier(algorithm='auto', leaf_size=30, metric='minkowski',\n",
      "           metric_params=None, n_jobs=None, n_neighbors=6, p=2,\n",
      "           weights='uniform')\n",
      "\n",
      "best_params\n",
      "{'n_neighbors': 6, 'weights': 'uniform'}\n"
     ]
    },
    {
     "name": "stderr",
     "output_type": "stream",
     "text": [
      "[Parallel(n_jobs=-1)]: Done 180 out of 180 | elapsed:    0.4s finished\n"
     ]
    },
    {
     "data": {
      "text/plain": [
       "1.0"
      ]
     },
     "execution_count": 19,
     "metadata": {},
     "output_type": "execute_result"
    }
   ],
   "source": [
    "#knn grid\n",
    "#对grid使用待了解\n",
    "from sklearn.neighbors import KNeighborsClassifier\n",
    "from sklearn import datasets\n",
    "from sklearn.model_selection import GridSearchCV\n",
    "from sklearn.model_selection import train_test_split\n",
    "\n",
    "iris = datasets.load_iris()\n",
    "data = iris.data\n",
    "label = iris.target\n",
    "X_train,X_test,y_train,y_test = train_test_split(data,label,test_size=0.3,random_state=2)\n",
    "knn_clf = KNeighborsClassifier()\n",
    "param_grid = [\n",
    "    {\n",
    "        'weights':['uniform'],\n",
    "        'n_neighbors':[i for i in range(1,11)]\n",
    "    },\n",
    "    {\n",
    "        'weights':['distance'],\n",
    "        'n_neighbors':[i for i in range(1,11)],\n",
    "        'p':[i for i in range(1,6)]\n",
    "    }\n",
    "]\n",
    "grid_search = GridSearchCV(knn_clf,param_grid,n_jobs=-1,verbose=2)\n",
    "#verbose：日志冗长度，int：冗长度，0：不输出训练过程，1：偶尔输出，>1：对每个子模型都输出。\n",
    "grid_search.fit(X_train,y_train)\n",
    "print('best_estimator_')\n",
    "print(grid_search.best_estimator_)\n",
    "print()\n",
    "print('best_params')\n",
    "print(grid_search.best_params_)\n",
    "\n",
    "knn_clf = grid_search.best_estimator_\n",
    "y_pre = knn_clf.predict(X_test)\n",
    "knn_clf.score(X_test,y_pre)"
   ]
  },
  {
   "cell_type": "code",
   "execution_count": null,
   "metadata": {
    "collapsed": true
   },
   "outputs": [],
   "source": []
  }
 ],
 "metadata": {
  "kernelspec": {
   "display_name": "Python 3",
   "language": "python",
   "name": "python3"
  }
 },
 "nbformat": 4,
 "nbformat_minor": 2
}
