{
 "cells": [
  {
   "cell_type": "code",
   "execution_count": 6,
   "metadata": {},
   "outputs": [
    {
     "data": {
      "text/plain": [
       "['accuracy',\n",
       " 'adjusted_mutual_info_score',\n",
       " 'adjusted_rand_score',\n",
       " 'average_precision',\n",
       " 'balanced_accuracy',\n",
       " 'brier_score_loss',\n",
       " 'completeness_score',\n",
       " 'explained_variance',\n",
       " 'f1',\n",
       " 'f1_macro',\n",
       " 'f1_micro',\n",
       " 'f1_samples',\n",
       " 'f1_weighted',\n",
       " 'fowlkes_mallows_score',\n",
       " 'homogeneity_score',\n",
       " 'mutual_info_score',\n",
       " 'neg_log_loss',\n",
       " 'neg_mean_absolute_error',\n",
       " 'neg_mean_squared_error',\n",
       " 'neg_mean_squared_log_error',\n",
       " 'neg_median_absolute_error',\n",
       " 'normalized_mutual_info_score',\n",
       " 'precision',\n",
       " 'precision_macro',\n",
       " 'precision_micro',\n",
       " 'precision_samples',\n",
       " 'precision_weighted',\n",
       " 'r2',\n",
       " 'recall',\n",
       " 'recall_macro',\n",
       " 'recall_micro',\n",
       " 'recall_samples',\n",
       " 'recall_weighted',\n",
       " 'roc_auc',\n",
       " 'v_measure_score']"
      ]
     },
     "execution_count": 6,
     "metadata": {},
     "output_type": "execute_result"
    }
   ],
   "source": [
    "import sklearn\n",
    "from sklearn import svm, datasets\n",
    "from sklearn.model_selection import cross_val_score\n",
    "iris = datasets.load_iris()\n",
    "X, y = iris.data, iris.target\n",
    "clf = svm.SVC(gamma='scale', random_state=0)\n",
    "cross_val_score(clf, X, y, scoring='recall_macro',\n",
    "                cv=5)  \n",
    "#array([0.96..., 0.96..., 0.96..., 0.93..., 1.        ])\n",
    "sorted(sklearn.metrics.SCORERS.keys()) #列出所有的scorers 适用于 classification Clustering regression"
   ]
  },
  {
   "cell_type": "code",
   "execution_count": null,
   "metadata": {
    "collapsed": true
   },
   "outputs": [],
   "source": [
    "#常用的十大评估标准\n",
    "# 1.accuracy_score\n",
    "#分类准确率分数是指所有分类正确的百分比。\n",
    "#sklearn.metrics.accuracy_score(y_true, y_pred, normalize=True, sample_weight=None)\n",
    "import numpy as np\n",
    "from sklearn.metrics import accuracy_score\n",
    "y_pred = [0, 2, 1, 3]\n",
    "y_true = [0, 1, 2, 3]\n",
    "accuracy_score(y_true, y_pred)\n",
    "#0.5\n",
    "accuracy_score(y_true, y_pred, normalize=False)\n",
    "#2"
   ]
  },
  {
   "cell_type": "code",
   "execution_count": 22,
   "metadata": {},
   "outputs": [
    {
     "data": {
      "text/plain": [
       "array([ 1.,  0.,  0.])"
      ]
     },
     "execution_count": 22,
     "metadata": {},
     "output_type": "execute_result"
    }
   ],
   "source": [
    "# 2.recall_score 回率 =提取出的正确信息条数 /样本中的信息条数。通俗地说，就是所有准确的条目有多少被检索出来了。\n",
    "#klearn.metrics.recall_score(y_true, y_pred, labels=None, pos_label=1,average='binary', sample_weight=None)\n",
    "\n",
    "from sklearn.metrics import recall_score\n",
    "y_true = [0, 1, 2, 0, 1, 2,2]\n",
    "y_pred = [0, 2, 1, 0, 0, 1,1]\n",
    "recall_score(y_true, y_pred, average='macro') #平均所有类别进行计算得分\n",
    "# #0.33...\n",
    "recall_score(y_true, y_pred, average='micro') #针对每个样本进行加权计算得分\n",
    "#0.2857142857142857\n",
    "recall_score(y_true, y_pred, average='weighted') #针对类别进行加权计算得分\n",
    "#0.2857142857142857\n",
    "recall_score(y_true, y_pred, average=None) #返回每一类的得分\n",
    "#array([1.,  0., 0.])\n"
   ]
  },
  {
   "cell_type": "code",
   "execution_count": null,
   "metadata": {
    "collapsed": true
   },
   "outputs": [],
   "source": [
    "# 3. ROC ROC曲线下的面积是模型准确率的度量，AUC max\n",
    "import numpy as np\n",
    "from sklearn import metrics\n",
    "y = np.array([1, 1, 2, 2])\n",
    "scores = np.array([0.1, 0.4, 0.35, 0.8])\n",
    "fpr, tpr, thresholds = metrics.roc_curve(y, scores, pos_label=2)\n",
    "fpr\n",
    "#array([0. ,  0.5,  0.5, 1. ]) FPR = FP /（FP + TN） （被预测为负的负样本结果数 /负样本实际数）\n",
    "tpr\n",
    "#array([0.5,  0.5,  1. , 1. ]) TPR = TP /（TP + FN）  （正样本预测结果数 / 正样本实际数）\n",
    "thresholds\n",
    "#array([0.8 ,  0.4 ,  0.35, 0.1 ]) 阈值，正样本置信区间\n",
    "from sklearn.metrics import auc \n",
    "metrics.auc(fpr, tpr) \n",
    "#0.75 "
   ]
  },
  {
   "cell_type": "code",
   "execution_count": 2,
   "metadata": {},
   "outputs": [
    {
     "name": "stdout",
     "output_type": "stream",
     "text": [
      "fpr: [ 0.   0.   0.5  0.5  1. ]\n",
      "tpr: [ 0.   0.5  0.5  1.   1. ]\n",
      "thresholds: [ 1.8   0.8   0.4   0.35  0.1 ]\n",
      "AUC: 0.75\n",
      "\n",
      "\n",
      "####################################################\n"
     ]
    },
    {
     "data": {
      "image/png": "[encoded data removed]",
      "text/plain": [
       "<Figure size 432x288 with 1 Axes>"
      ]
     },
     "metadata": {},
     "output_type": "display_data"
    }
   ],
   "source": [
    "import numpy as np\n",
    "import matplotlib.pyplot as plt\n",
    "from sklearn.metrics import roc_curve  \n",
    " \n",
    "y = np.array([1,1,2,2])  \n",
    "pred = np.array([0.1, 0.4, 0.35, 0.8])  \n",
    "fpr, tpr, thresholds = roc_curve(y, pred, pos_label=2) \n",
    "print('fpr: ' + str(fpr))\n",
    "print('tpr: ' + str(tpr))\n",
    "print('thresholds: ' + str(thresholds))\n",
    " \n",
    " \n",
    "from sklearn.metrics import auc  \n",
    "AUC = auc(fpr, tpr) \n",
    "print('AUC: ' + str(AUC))\n",
    " \n",
    "print('\\n\\n####################################################')\n",
    "# help(roc_curve)\n",
    "plt.plot(fpr, tpr)  \n",
    "plt.title('ROC_curve' + '(AUC: ' + str(AUC) + ')' )  \n",
    "plt.ylabel('True Positive Rate')  \n",
    "plt.xlabel('False Positive Rate')  \n",
    "plt.show()  "
   ]
  },
  {
   "cell_type": "code",
   "execution_count": 23,
   "metadata": {},
   "outputs": [
    {
     "data": {
      "text/plain": [
       "0.75"
      ]
     },
     "execution_count": 23,
     "metadata": {},
     "output_type": "execute_result"
    }
   ],
   "source": [
    "# 4. Auc\n",
    "# 计算AUC值，其中x,y分别为数组形式，根据(xi,yi)在坐标上的点，生成的曲线，然后计算AUC值；\n",
    "# sklearn.metrics.auc(x, y, reorder=False)\n",
    "\n",
    "# 5. roc_auc_score\n",
    "# 直接根据真实值（必须是二值）、预测值（可以是0/1,也可以是proba值）计算出auc值，中间过程的roc计算省略。\n",
    "# sklearn.metrics.roc_auc_score(y_true, y_score, average='macro', sample_weight=None)\n",
    "import numpy as np\n",
    "from sklearn.metrics import roc_auc_score\n",
    "y_true = np.array([0, 0, 1, 1])\n",
    "y_scores = np.array([0.1, 0.4, 0.35, 0.8])\n",
    "roc_auc_score(y_true, y_scores)"
   ]
  },
  {
   "cell_type": "code",
   "execution_count": 26,
   "metadata": {},
   "outputs": [
    {
     "data": {
      "text/plain": [
       "array([[2, 0, 0],\n",
       "       [0, 0, 1],\n",
       "       [1, 0, 2]], dtype=int64)"
      ]
     },
     "execution_count": 26,
     "metadata": {},
     "output_type": "execute_result"
    }
   ],
   "source": [
    "# 6. confusion_matrix 混淆矩阵\n",
    "# 观察各个种类分类的结果\n",
    "#sklearn.metrics.confusion_matrix(y_true, y_pred, labels=None, sample_weight=None)\n",
    "from sklearn.metrics import confusion_matrix\n",
    "y_true = [2, 0, 2, 2, 0, 1]\n",
    "y_pred = [0, 0, 2, 2, 0, 2]\n",
    "confusion_matrix(y_true, y_pred)\n",
    "# array([[2,0, 0],\n",
    "#        [0, 0, 1],\n",
    "#        [1, 0, 2]])\n",
    "\n",
    "#use the label\n",
    "y_true = [\"cat\", \"ant\", \"cat\", \"cat\",\"ant\", \"bird\"]\n",
    "y_pred = [\"ant\", \"ant\", \"cat\", \"cat\",\"ant\", \"cat\"]\n",
    "confusion_matrix(y_true, y_pred, labels=[\"ant\", \"bird\",\"cat\"])\n",
    "# https://blog.csdn.net/CherDW/article/details/55813071\n"
   ]
  },
  {
   "cell_type": "code",
   "execution_count": 27,
   "metadata": {
    "collapsed": true
   },
   "outputs": [],
   "source": [
    "# metric.scores已经对3种模型封装了基本的评分函数，我们也可以使用make_scorer标准化自定义的函数，让scikit-learn对象可以使用它。\n",
    "#sklearn.metrics.make_scorer(score_func, greater_is_better=True, needs_proba=False, needs_threshold=False, **kwargs)\n",
    "# 从库中包装现有的度量函数，更改其参数。\n",
    "from sklearn.metrics import fbeta_score, make_scorer\n",
    "ftwo_scorer = make_scorer(fbeta_score, beta=2) \n",
    "from sklearn.model_selection import GridSearchCV\n",
    "from sklearn.svm import LinearSVC\n",
    "grid = GridSearchCV(LinearSVC(), param_grid={'C': [1, 10]},\n",
    "                    scoring=ftwo_scorer, cv=5)"
   ]
  },
  {
   "cell_type": "code",
   "execution_count": 39,
   "metadata": {},
   "outputs": [
    {
     "data": {
      "text/plain": [
       "array([-0.69314718, -0.69314718])"
      ]
     },
     "execution_count": 39,
     "metadata": {},
     "output_type": "execute_result"
    }
   ],
   "source": [
    "# metric.scores 自定义度量函数并标准化\n",
    "import numpy as np\n",
    "def my_custom_loss_func(y_true, y_pred):\n",
    "    diff = np.abs(y_true - y_pred).max()\n",
    "    return np.log1p(diff)\n",
    "# score will negate the return value of my_custom_loss_func,\n",
    "# which will be np.log(2), 0.693, given the values for X\n",
    "# and y defined below.\n",
    "score = make_scorer(my_custom_loss_func, greater_is_better=False)#greater_is_better默认极大化度量函数\n",
    "X = [[1], [1],[2],[3],[0]]\n",
    "y = [0, 1,1,1,0]\n",
    "from sklearn.dummy import DummyClassifier\n",
    "clf = DummyClassifier(strategy='most_frequent', random_state=0)\n",
    "clf = clf.fit(X, y)\n",
    "# my_custom_loss_func(clf.predict(X), y) \n",
    "# 0.69...\n",
    "score(clf, X, y) \n",
    "\n",
    "cross_val_score(clf,X,  y, scoring=make_scorer(my_custom_loss_func, greater_is_better=False),  cv=2, n_jobs=-1) #cv决定每次划分测试集数量，向上取整，目前测试集每次3个\n"
   ]
  },
  {
   "cell_type": "code",
   "execution_count": 4,
   "metadata": {
    "scrolled": true
   },
   "outputs": [
    {
     "name": "stdout",
     "output_type": "stream",
     "text": [
      "              precision    recall  f1-score   support\n",
      "\n",
      "     class 0       0.67      1.00      0.80         2\n",
      "     class 1       0.00      0.00      0.00         1\n",
      "     class 2       1.00      1.00      1.00         2\n",
      "     class 3       1.00      1.00      1.00         1\n",
      "\n",
      "   micro avg       0.83      0.83      0.83         6\n",
      "   macro avg       0.67      0.75      0.70         6\n",
      "weighted avg       0.72      0.83      0.77         6\n",
      "\n"
     ]
    },
    {
     "name": "stderr",
     "output_type": "stream",
     "text": [
      "C:\\Users\\SBY\\Anaconda3\\envs\\tensorflow1\\lib\\site-packages\\sklearn\\metrics\\classification.py:1143: UndefinedMetricWarning: Precision and F-score are ill-defined and being set to 0.0 in labels with no predicted samples.\n",
      "  'precision', 'predicted', average, warn_for)\n"
     ]
    }
   ],
   "source": [
    " #  classification_report，列出一个模型的多个评估标准\n",
    "#参数补充：一半准确度的计算方式不能表达出模型的分类能力，在多分类时，不能看到每种类别的分类正确情况\n",
    "#宏平均(micro-average)\n",
    "# 属于类C的样本被正确分类到类C，记这一类样本数为 TP\n",
    "# 不属于类C的样本被错误分类到类C，记这一类样本数为 FP\n",
    "# 属于类别C的样本被错误分类到类C的其他类，记这一类样本数为 TN\n",
    "# 不属于类别C的样本被正确分类到了类别C的其他类，记这一类样本数为 FN  \n",
    "#一类别的准确率，precision = TP / (TP + FP) \n",
    "#召回率 recall = TP / (TP + TN) 但是这两种指标也只是片面的评估某类的分类情况\n",
    "#现在就引入F-measure，将二者结合起来，计算公式如下：F- measure = (A + 1) * precision * recall / (A ^ 2 * precision + recall)\n",
    "#当A取1时，称为调和均值，也就是F1-score\n",
    "\n",
    "#把所有类的F1值取一个算术平均就得到了Macro-average宏平均\n",
    "#微平均Micro-average=(TP + FP) / (TP + TN + FP + FN)，即一般评估的准确度，一般情况下 宏平均优于微，看数据再定\n",
    "#此report下的avg 每行3个数据，分别对准确率，召回率，f1值进行了计算。\n",
    "from sklearn.metrics import classification_report\n",
    "y_true = [0, 1, 2, 2, 0,3]\n",
    "y_pred = [0, 0, 2, 2, 0,3]\n",
    "target_names = ['class 0', 'class 1', 'class 2', 'class 3']\n",
    "print(classification_report(y_true, y_pred, target_names=target_names))"
   ]
  },
  {
   "cell_type": "code",
   "execution_count": 13,
   "metadata": {},
   "outputs": [
    {
     "data": {
      "text/plain": [
       "0.50635287827733144"
      ]
     },
     "execution_count": 13,
     "metadata": {},
     "output_type": "execute_result"
    }
   ],
   "source": [
    "#Hinge loss  以上各种都是一些常用的评估方法，然后评估器就是评估方法的集成，明白二者关系后即可以自由构造评估器\n",
    "#当为二分类时，可以使用铰链损失来进行评估，当为多分类时，则用其变体Crammer＆Singer的多类变体\n",
    "#二分类铰链公式：y为真实种类，w为预测输出\n",
    "#L(y,w)=max{1-wy,0}   \n",
    "#多分类演示\n",
    "from sklearn import svm\n",
    "from sklearn.metrics import hinge_loss\n",
    "X = np.array([[0], [1], [2], [3]])\n",
    "Y = np.array([0, 1, 2, 3])\n",
    "labels = np.array([0, 1, 2, 3])\n",
    "est = svm.LinearSVC()\n",
    "est.fit(X, Y)\n",
    "pred_decision = est.decision_function([[-1], [2], [3]])\n",
    "y_true = [0, 2, 3]\n",
    "weight = [1,1,10]   #计算多分类铰链时可选参数 权值\n",
    "hinge_loss(y_true, pred_decision, labels, weight) "
   ]
  },
  {
   "cell_type": "code",
   "execution_count": 14,
   "metadata": {},
   "outputs": [
    {
     "data": {
      "text/plain": [
       "0.17380733669106749"
      ]
     },
     "execution_count": 14,
     "metadata": {},
     "output_type": "execute_result"
    }
   ],
   "source": [
    "#Log loss  对数损失 交叉熵损失 基于事件的熵   h(x) =-p(x)logp(x)\n",
    "from sklearn.metrics import log_loss\n",
    "y_true = [0, 0, 1, 1]\n",
    "y_pred = [[.9, .1], [.8, .2], [.3, .7], [.01, .99]]\n",
    "log_loss(y_true, y_pred)    "
   ]
  },
  {
   "cell_type": "code",
   "execution_count": 16,
   "metadata": {},
   "outputs": [
    {
     "data": {
      "text/plain": [
       "0.99032258064516121"
      ]
     },
     "execution_count": 16,
     "metadata": {},
     "output_type": "execute_result"
    }
   ],
   "source": [
    "######### 以上为分类评估指标\n",
    "######## 接下来为回归指标  Regression metrics\n",
    "# mean_squared_error, 均方误差，mean_absolute_error, 平均绝对误差，explained_variance_score解释方差分数 ，and r2_score.R²得分，决定系数\n",
    "from sklearn.metrics import explained_variance_score\n",
    "y_true = [3, -0.5, 2, 7]\n",
    "y_pred = [2.5, 0.0, 2, 8]\n",
    "explained_variance_score(y_true, y_pred)  \n",
    "# 0.957...\n",
    "y_true = [[0.5, 1], [-1, 1], [7, -6]]\n",
    "y_pred = [[0, 2], [-1, 2], [8, -5]]\n",
    "explained_variance_score(y_true, y_pred, multioutput='raw_values')\n",
    "\n",
    "explained_variance_score(y_true, y_pred, multioutput=[0.3, 0.7])"
   ]
  },
  {
   "cell_type": "code",
   "execution_count": null,
   "metadata": {
    "collapsed": true
   },
   "outputs": [],
   "source": []
  }
 ],
 "metadata": {
  "kernelspec": {
   "display_name": "Python 3",
   "language": "python",
   "name": "python3"
  },
  "language_info": {
   "codemirror_mode": {
    "name": "ipython",
    "version": 3
   },
   "file_extension": ".py",
   "mimetype": "text/x-python",
   "name": "python",
   "nbconvert_exporter": "python",
   "pygments_lexer": "ipython3",
   "version": "3.5.6"
  }
 },
 "nbformat": 4,
 "nbformat_minor": 2
}
